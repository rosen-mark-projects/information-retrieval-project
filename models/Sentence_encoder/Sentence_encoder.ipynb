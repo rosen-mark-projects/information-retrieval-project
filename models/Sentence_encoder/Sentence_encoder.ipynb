{
 "cells": [
  {
   "cell_type": "code",
   "execution_count": 1,
   "metadata": {},
   "outputs": [
    {
     "name": "stderr",
     "output_type": "stream",
     "text": [
      "Using TensorFlow backend.\n",
      "[nltk_data] Downloading package stopwords to /home/mark/nltk_data...\n",
      "[nltk_data]   Package stopwords is already up-to-date!\n",
      "[nltk_data] Downloading package wordnet to /home/mark/nltk_data...\n",
      "[nltk_data]   Package wordnet is already up-to-date!\n"
     ]
    },
    {
     "data": {
      "text/plain": [
       "True"
      ]
     },
     "execution_count": 1,
     "metadata": {},
     "output_type": "execute_result"
    }
   ],
   "source": [
    "import tensorflow as tf\n",
    "import tensorflow_hub as hub\n",
    "import matplotlib.pyplot as plt\n",
    "import numpy as np\n",
    "import os\n",
    "import pandas as pd\n",
    "import re\n",
    "from keras import regularizers\n",
    "import tensorflow.keras.layers as layers\n",
    "from tensorflow.keras.models import Model\n",
    "from tensorflow.keras.optimizers import Adam\n",
    "from tensorflow.keras.layers import Dense, Input, BatchNormalization\n",
    "from tensorflow.keras.models import Model, Sequential\n",
    "from tensorflow.keras.callbacks import ModelCheckpoint,ReduceLROnPlateau\n",
    "import seaborn as sns\n",
    "import matplotlib.pyplot as plt\n",
    "\n",
    "from nltk.corpus import stopwords\n",
    "from nltk.stem.porter import *\n",
    "import nltk\n",
    "from nltk.stem.wordnet import WordNetLemmatizer\n",
    "\n",
    "nltk.download('stopwords')\n",
    "nltk.download('wordnet')"
   ]
  },
  {
   "cell_type": "code",
   "execution_count": 2,
   "metadata": {},
   "outputs": [],
   "source": [
    "train = pd.read_csv('../train.csv')"
   ]
  },
  {
   "cell_type": "code",
   "execution_count": 3,
   "metadata": {},
   "outputs": [],
   "source": [
    "import re\n",
    "import string\n",
    "def clean(text):\n",
    "    text = text.lower()\n",
    "    text = re.sub('\\[.*?\\]', '', text)\n",
    "    text = re.sub('[%s]' % re.escape(string.punctuation), '', text)\n",
    "    text = re.sub('\\w*\\d\\w*', '', text)\n",
    "    text = re.sub('[‘’“”…]', '', text)\n",
    "    text = re.sub('\\n', '', text)\n",
    "    \n",
    "    stp = set(stopwords.words(\"english\"))\n",
    "    st = WordNetLemmatizer()\n",
    "    stemmer = PorterStemmer()\n",
    "    text = text.split()\n",
    "    text = [w for w in text if not w in stp]\n",
    "    text = [st.lemmatize(w) for w in text]\n",
    "    text = [stemmer.stem(word) for word in text if len(word)>3]\n",
    "    text = \" \".join(text)\n",
    "\n",
    "    text = text.translate(str.maketrans(\"\", \"\", string.punctuation))\n",
    "    return text\n",
    "\n",
    "train['text'] = train.text.apply(lambda x: clean(x))"
   ]
  },
  {
   "cell_type": "code",
   "execution_count": 5,
   "metadata": {},
   "outputs": [],
   "source": [
    "from sklearn.model_selection import train_test_split\n",
    "X_train, X_test, y_train, y_test = train_test_split(train['text'], train['target'], test_size=0.3, random_state=42)"
   ]
  },
  {
   "cell_type": "code",
   "execution_count": null,
   "metadata": {},
   "outputs": [],
   "source": [
    "import tensorflow_hub as hub\n",
    "\n",
    "module_url = \"https://tfhub.dev/google/universal-sentence-encoder/4\"\n",
    "embedded = hub.KerasLayer(module_url, trainable=False, name='USE_embeddedding')"
   ]
  },
  {
   "cell_type": "code",
   "execution_count": 6,
   "metadata": {},
   "outputs": [],
   "source": [
    "def build_model(embedded):\n",
    "    model = Sequential()\n",
    "    model.add(Input(shape=[], dtype=tf.string))\n",
    "    model.add(embedded)\n",
    "    model.add(Dense(256, activation='relu', kernel_regularizer=regularizers.l2(0.01)))\n",
    "    model.add(BatchNormalization())\n",
    "    model.add(Dense(128, activation='relu', kernel_regularizer=regularizers.l2(0.03)))\n",
    "    model.add(BatchNormalization())\n",
    "    model.add(Dense(32, activation='relu', kernel_regularizer=regularizers.l2(0.05)))\n",
    "    model.add(Dense(1, activation='sigmoid'))\n",
    "    model.compile(Adam(lr=0.001), loss='binary_crossentropy', metrics=['accuracy'])\n",
    "    \n",
    "    return model"
   ]
  },
  {
   "cell_type": "code",
   "execution_count": 7,
   "metadata": {},
   "outputs": [
    {
     "name": "stdout",
     "output_type": "stream",
     "text": [
      "Model: \"sequential\"\n",
      "_________________________________________________________________\n",
      "Layer (type)                 Output Shape              Param #   \n",
      "=================================================================\n",
      "USE_embeddedding (KerasLayer)   (None, 512)               256797824 \n",
      "_________________________________________________________________\n",
      "dense (Dense)                (None, 256)               131328    \n",
      "_________________________________________________________________\n",
      "batch_normalization (BatchNo (None, 256)               1024      \n",
      "_________________________________________________________________\n",
      "dense_1 (Dense)              (None, 128)               32896     \n",
      "_________________________________________________________________\n",
      "batch_normalization_1 (Batch (None, 128)               512       \n",
      "_________________________________________________________________\n",
      "dense_2 (Dense)              (None, 32)                4128      \n",
      "_________________________________________________________________\n",
      "dense_3 (Dense)              (None, 1)                 33        \n",
      "=================================================================\n",
      "Total params: 256,967,745\n",
      "Trainable params: 169,153\n",
      "Non-trainable params: 256,798,592\n",
      "_________________________________________________________________\n"
     ]
    }
   ],
   "source": [
    "model = build_model(embedded)"
   ]
  },
  {
   "cell_type": "code",
   "execution_count": 8,
   "metadata": {},
   "outputs": [],
   "source": [
    "checkpoint = ModelCheckpoint('weights.best.hdf5', monitor='val_accuracy', verbose=1, save_best_only=True, mode='max')\n",
    "reduce_lr = ReduceLROnPlateau(monitor='val_loss', factor=0.2, patience=5, min_lr=0.0001)"
   ]
  },
  {
   "cell_type": "code",
   "execution_count": 9,
   "metadata": {},
   "outputs": [
    {
     "name": "stdout",
     "output_type": "stream",
     "text": [
      "Train on 5329 samples, validate on 2284 samples\n",
      "Epoch 1/15\n",
      "5232/5329 [============================>.] - ETA: 0s - loss: 4.9619 - accuracy: 0.7471\n",
      "Epoch 00001: val_accuracy improved from -inf to 0.60902, saving model to weights.best.hdf5\n",
      "5329/5329 [==============================] - 11s 2ms/sample - loss: 4.9019 - accuracy: 0.7478 - val_loss: 1.8118 - val_accuracy: 0.6090\n",
      "Epoch 2/15\n",
      "5232/5329 [============================>.] - ETA: 0s - loss: 1.0310 - accuracy: 0.7695\n",
      "Epoch 00002: val_accuracy improved from 0.60902 to 0.77627, saving model to weights.best.hdf5\n",
      "5329/5329 [==============================] - 8s 1ms/sample - loss: 1.0251 - accuracy: 0.7690 - val_loss: 0.7169 - val_accuracy: 0.7763\n",
      "Epoch 3/15\n",
      "5280/5329 [============================>.] - ETA: 0s - loss: 0.6444 - accuracy: 0.7708\n",
      "Epoch 00003: val_accuracy improved from 0.77627 to 0.77671, saving model to weights.best.hdf5\n",
      "5329/5329 [==============================] - 10s 2ms/sample - loss: 0.6450 - accuracy: 0.7698 - val_loss: 0.6212 - val_accuracy: 0.7767\n",
      "Epoch 4/15\n",
      "5248/5329 [============================>.] - ETA: 0s - loss: 0.5975 - accuracy: 0.7713\n",
      "Epoch 00004: val_accuracy did not improve from 0.77671\n",
      "5329/5329 [==============================] - 4s 844us/sample - loss: 0.5985 - accuracy: 0.7714 - val_loss: 0.6025 - val_accuracy: 0.7680\n",
      "Epoch 5/15\n",
      "5312/5329 [============================>.] - ETA: 0s - loss: 0.5940 - accuracy: 0.7733\n",
      "Epoch 00005: val_accuracy did not improve from 0.77671\n",
      "5329/5329 [==============================] - 3s 654us/sample - loss: 0.5945 - accuracy: 0.7728 - val_loss: 0.5950 - val_accuracy: 0.7627\n",
      "Epoch 6/15\n",
      "5264/5329 [============================>.] - ETA: 0s - loss: 0.5686 - accuracy: 0.7874\n",
      "Epoch 00006: val_accuracy improved from 0.77671 to 0.77715, saving model to weights.best.hdf5\n",
      "5329/5329 [==============================] - 9s 2ms/sample - loss: 0.5691 - accuracy: 0.7868 - val_loss: 0.5840 - val_accuracy: 0.7771\n",
      "Epoch 7/15\n",
      "5328/5329 [============================>.] - ETA: 0s - loss: 0.5471 - accuracy: 0.7941\n",
      "Epoch 00007: val_accuracy did not improve from 0.77715\n",
      "5329/5329 [==============================] - 4s 801us/sample - loss: 0.5471 - accuracy: 0.7941 - val_loss: 0.5675 - val_accuracy: 0.7741\n",
      "Epoch 8/15\n",
      "5264/5329 [============================>.] - ETA: 0s - loss: 0.5214 - accuracy: 0.8055\n",
      "Epoch 00008: val_accuracy improved from 0.77715 to 0.77846, saving model to weights.best.hdf5\n",
      "5329/5329 [==============================] - 11s 2ms/sample - loss: 0.5217 - accuracy: 0.8050 - val_loss: 0.5912 - val_accuracy: 0.7785\n",
      "Epoch 9/15\n",
      "5312/5329 [============================>.] - ETA: 0s - loss: 0.5146 - accuracy: 0.8112\n",
      "Epoch 00009: val_accuracy did not improve from 0.77846\n",
      "5329/5329 [==============================] - 4s 840us/sample - loss: 0.5147 - accuracy: 0.8107 - val_loss: 0.5890 - val_accuracy: 0.7728\n",
      "Epoch 10/15\n",
      "5280/5329 [============================>.] - ETA: 0s - loss: 0.4972 - accuracy: 0.8233\n",
      "Epoch 00010: val_accuracy did not improve from 0.77846\n",
      "5329/5329 [==============================] - 5s 951us/sample - loss: 0.4974 - accuracy: 0.8234 - val_loss: 0.6467 - val_accuracy: 0.7574\n",
      "Epoch 11/15\n",
      "5264/5329 [============================>.] - ETA: 0s - loss: 0.4927 - accuracy: 0.8256\n",
      "Epoch 00011: val_accuracy improved from 0.77846 to 0.78240, saving model to weights.best.hdf5\n",
      "5329/5329 [==============================] - 15s 3ms/sample - loss: 0.4926 - accuracy: 0.8259 - val_loss: 0.5796 - val_accuracy: 0.7824\n",
      "Epoch 12/15\n",
      "5280/5329 [============================>.] - ETA: 0s - loss: 0.4841 - accuracy: 0.8311\n",
      "Epoch 00012: val_accuracy did not improve from 0.78240\n",
      "5329/5329 [==============================] - 6s 1ms/sample - loss: 0.4829 - accuracy: 0.8317 - val_loss: 0.6421 - val_accuracy: 0.7421\n",
      "Epoch 13/15\n",
      "5280/5329 [============================>.] - ETA: 0s - loss: 0.4161 - accuracy: 0.8648\n",
      "Epoch 00013: val_accuracy did not improve from 0.78240\n",
      "5329/5329 [==============================] - 5s 951us/sample - loss: 0.4168 - accuracy: 0.8645 - val_loss: 0.6287 - val_accuracy: 0.7710\n",
      "Epoch 14/15\n",
      "5296/5329 [============================>.] - ETA: 0s - loss: 0.3881 - accuracy: 0.8793\n",
      "Epoch 00014: val_accuracy did not improve from 0.78240\n",
      "5329/5329 [==============================] - 6s 1ms/sample - loss: 0.3875 - accuracy: 0.8797 - val_loss: 0.6580 - val_accuracy: 0.7706\n",
      "Epoch 15/15\n",
      "5296/5329 [============================>.] - ETA: 0s - loss: 0.3599 - accuracy: 0.8948\n",
      "Epoch 00015: val_accuracy did not improve from 0.78240\n",
      "5329/5329 [==============================] - 5s 943us/sample - loss: 0.3595 - accuracy: 0.8947 - val_loss: 0.6611 - val_accuracy: 0.7697\n"
     ]
    }
   ],
   "source": [
    "history = model.fit(X_train, y_train, validation_data=(X_test,y_test), epochs=15, \n",
    "                    callbacks=[checkpoint, reduce_lr], batch_size=16)"
   ]
  },
  {
   "cell_type": "code",
   "execution_count": 10,
   "metadata": {},
   "outputs": [
    {
     "name": "stdout",
     "output_type": "stream",
     "text": [
      "accuracy: 76.97%\n"
     ]
    }
   ],
   "source": [
    "scores = model.evaluate(X_test, y_test, verbose=0)\n",
    "print(\"%s: %.2f%%\" % (model.metrics_names[1], scores[1]*100))"
   ]
  },
  {
   "cell_type": "code",
   "execution_count": 11,
   "metadata": {},
   "outputs": [
    {
     "data": {
      "text/plain": [
       "array([[0.04693749],\n",
       "       [0.06535044],\n",
       "       [0.00838841],\n",
       "       ...,\n",
       "       [0.99726665],\n",
       "       [0.9985415 ],\n",
       "       [0.77814883]], dtype=float32)"
      ]
     },
     "execution_count": 11,
     "metadata": {},
     "output_type": "execute_result"
    }
   ],
   "source": [
    "model.predict(X_test)"
   ]
  },
  {
   "cell_type": "code",
   "execution_count": 12,
   "metadata": {},
   "outputs": [
    {
     "data": {
      "text/plain": [
       "<matplotlib.legend.Legend at 0x7f5869f98ed0>"
      ]
     },
     "execution_count": 12,
     "metadata": {},
     "output_type": "execute_result"
    },
    {
     "data": {
      "image/png": "[encoded data removed]",
      "text/plain": [
       "<Figure size 1440x576 with 1 Axes>"
      ]
     },
     "metadata": {},
     "output_type": "display_data"
    }
   ],
   "source": [
    "plt.figure(figsize=(20,8))\n",
    "plt.subplot(2,2,1)\n",
    "plt.plot(history.history['accuracy'])\n",
    "plt.plot(history.history['val_accuracy'])\n",
    "plt.title('model accuracy')\n",
    "plt.ylabel('accuracy')\n",
    "plt.xlabel('epoch')\n",
    "plt.legend(['train', 'val'], loc='upper left')"
   ]
  },
  {
   "cell_type": "code",
   "execution_count": null,
   "metadata": {},
   "outputs": [],
   "source": []
  }
 ],
 "metadata": {
  "kernelspec": {
   "display_name": "Python 3",
   "language": "python",
   "name": "python3"
  },
  "language_info": {
   "codemirror_mode": {
    "name": "ipython",
    "version": 3
   },
   "file_extension": ".py",
   "mimetype": "text/x-python",
   "name": "python",
   "nbconvert_exporter": "python",
   "pygments_lexer": "ipython3",
   "version": "3.7.6"
  }
 },
 "nbformat": 4,
 "nbformat_minor": 2
}
